{
  "nbformat": 4,
  "nbformat_minor": 0,
  "metadata": {
    "colab": {
      "name": "amzon_camera_vine_reviews",
      "provenance": [],
      "collapsed_sections": [],
      "authorship_tag": "ABX9TyM00S+G4VdaEXXWMCMfT/tX",
      "include_colab_link": true
    },
    "kernelspec": {
      "name": "python3",
      "display_name": "Python 3"
    },
    "language_info": {
      "name": "python"
    }
  },
  "cells": [
    {
      "cell_type": "markdown",
      "metadata": {
        "id": "view-in-github",
        "colab_type": "text"
      },
      "source": [
        "<a href=\"https://colab.research.google.com/github/rfaylona/big-data-challenge/blob/main/amzon_camera_vine_reviews.ipynb\" target=\"_parent\"><img src=\"https://colab.research.google.com/assets/colab-badge.svg\" alt=\"Open In Colab\"/></a>"
      ]
    },
    {
      "cell_type": "code",
      "execution_count": 16,
      "metadata": {
        "colab": {
          "base_uri": "https://localhost:8080/"
        },
        "id": "qRZOJnnmWFcZ",
        "outputId": "647b6c0d-aec7-4ff5-9654-e00433d1d8d6"
      },
      "outputs": [
        {
          "output_type": "stream",
          "name": "stdout",
          "text": [
            "\r0% [Working]\r            \rHit:1 https://cloud.r-project.org/bin/linux/ubuntu bionic-cran40/ InRelease\n",
            "\r0% [Connecting to archive.ubuntu.com (185.125.190.36)] [Waiting for headers] [C\r                                                                               \rGet:2 http://security.ubuntu.com/ubuntu bionic-security InRelease [88.7 kB]\n",
            "\r0% [Connecting to archive.ubuntu.com (185.125.190.36)] [2 InRelease 14.2 kB/88.\r0% [1 InRelease gpgv 3,626 B] [Connecting to archive.ubuntu.com (185.125.190.36\r0% [1 InRelease gpgv 3,626 B] [Connecting to archive.ubuntu.com (185.125.190.36\r                                                                               \rIgn:3 https://developer.download.nvidia.com/compute/cuda/repos/ubuntu1804/x86_64  InRelease\n",
            "\r0% [1 InRelease gpgv 3,626 B] [Waiting for headers] [Waiting for headers] [Wait\r                                                                               \rHit:4 http://ppa.launchpad.net/c2d4u.team/c2d4u4.0+/ubuntu bionic InRelease\n",
            "Hit:5 http://archive.ubuntu.com/ubuntu bionic InRelease\n",
            "Ign:6 https://developer.download.nvidia.com/compute/machine-learning/repos/ubuntu1804/x86_64  InRelease\n",
            "Hit:7 https://developer.download.nvidia.com/compute/cuda/repos/ubuntu1804/x86_64  Release\n",
            "Get:8 http://archive.ubuntu.com/ubuntu bionic-updates InRelease [88.7 kB]\n",
            "Hit:9 https://developer.download.nvidia.com/compute/machine-learning/repos/ubuntu1804/x86_64  Release\n",
            "Hit:10 http://ppa.launchpad.net/cran/libgit2/ubuntu bionic InRelease\n",
            "Hit:11 http://ppa.launchpad.net/deadsnakes/ppa/ubuntu bionic InRelease\n",
            "Get:12 http://archive.ubuntu.com/ubuntu bionic-backports InRelease [74.6 kB]\n",
            "Hit:13 http://ppa.launchpad.net/graphics-drivers/ppa/ubuntu bionic InRelease\n",
            "Fetched 252 kB in 3s (100 kB/s)\n",
            "Reading package lists... Done\n"
          ]
        }
      ],
      "source": [
        "import os\n",
        "# Find the latest version of spark 3.0  from http://www.apache.org/dist/spark/ and enter as the spark version\n",
        "# For example:\n",
        "# spark_version = 'spark-3.0.3'\n",
        "spark_version = 'spark-3.1.3'\n",
        "os.environ['SPARK_VERSION']=spark_version\n",
        "\n",
        "# Install Spark and Java\n",
        "!apt-get update\n",
        "!apt-get install openjdk-8-jdk-headless -qq > /dev/null\n",
        "!wget -q http://www.apache.org/dist/spark/$SPARK_VERSION/$SPARK_VERSION-bin-hadoop2.7.tgz\n",
        "!tar xf $SPARK_VERSION-bin-hadoop2.7.tgz\n",
        "!pip install -q findspark\n",
        "\n",
        "# Set Environment Variables\n",
        "os.environ[\"JAVA_HOME\"] = \"/usr/lib/jvm/java-8-openjdk-amd64\"\n",
        "os.environ[\"SPARK_HOME\"] = f\"/content/{spark_version}-bin-hadoop2.7\"\n",
        "\n",
        "# Start a SparkSession\n",
        "import findspark\n",
        "findspark.init()"
      ]
    },
    {
      "cell_type": "code",
      "source": [
        "from pyspark.sql import SparkSession\n",
        "spark = SparkSession.builder.appName(\"Amzn_Camera_Vine_Reviews\").config(\"spark.driver.extraClassPath\",\"/content/postgresql-42.2.9.jar\").getOrCreate()"
      ],
      "metadata": {
        "id": "X0BtqHg5WRMZ"
      },
      "execution_count": 17,
      "outputs": []
    },
    {
      "cell_type": "code",
      "source": [
        "# Read in data from S3 Buckets\n",
        "from pyspark import SparkFiles\n",
        "\n",
        "url=\"https://s3.amazonaws.com/amazon-reviews-pds/tsv/amazon_reviews_us_Camera_v1_00.tsv.gz\"\n",
        "spark.sparkContext.addFile(url)\n",
        "camera_reviews = spark.read.csv(SparkFiles.get(\"amazon_reviews_us_Camera_v1_00.tsv.gz\"), sep=\"\\t\", header=True, inferSchema=True)\n",
        "\n",
        "camera_reviews.show()\n",
        "camera_reviews.count()"
      ],
      "metadata": {
        "colab": {
          "base_uri": "https://localhost:8080/"
        },
        "id": "i_y7TFvTWVU_",
        "outputId": "2ecf7613-5dcc-4a94-9331-f45f9630f881"
      },
      "execution_count": 18,
      "outputs": [
        {
          "output_type": "stream",
          "name": "stdout",
          "text": [
            "+-----------+-----------+--------------+----------+--------------+--------------------+----------------+-----------+-------------+-----------+----+-----------------+--------------------+--------------------+-----------+\n",
            "|marketplace|customer_id|     review_id|product_id|product_parent|       product_title|product_category|star_rating|helpful_votes|total_votes|vine|verified_purchase|     review_headline|         review_body|review_date|\n",
            "+-----------+-----------+--------------+----------+--------------+--------------------+----------------+-----------+-------------+-----------+----+-----------------+--------------------+--------------------+-----------+\n",
            "|         US|    2975964|R1NBG94582SJE2|B00I01JQJM|     860486164|GoPro Rechargeabl...|          Camera|          5|            0|          0|   N|                Y|          Five Stars|                  ok| 2015-08-31|\n",
            "|         US|   23526356|R273DCA6Y0H9V7|B00TCO0ZAA|     292641483|Professional 58mm...|          Camera|          5|            0|          0|   N|                Y|          Love it!!!|Perfect, even stu...| 2015-08-31|\n",
            "|         US|   52764145| RQVOXO7WUOFK6|B00B7733E0|      75825744|Spy Tec Z12 Motio...|          Camera|          2|            1|          1|   N|                Y|Another Motion De...|If the words, &#3...| 2015-08-31|\n",
            "|         US|   47348933|R1KWKSF21PO6HO|B006ZN4U34|     789352955|Celestron UpClose...|          Camera|          5|            0|          0|   N|                Y|Exactly what I wa...|Exactly what I wa...| 2015-08-31|\n",
            "|         US|   33680700|R38H3UO1J190GI|B00HUEBGMU|      19067902|Vidpro XM-L Wired...|          Camera|          5|            1|          1|   N|                Y|Good mic at a Goo...|I will look past ...| 2015-08-31|\n",
            "|         US|   30301059|R3NPIFKLR19NQA|B008MW6Y12|     597683407|NIX 8 inch Hi-Res...|          Camera|          3|            0|          0|   N|                Y|The controls are ...|The controls are ...| 2015-08-31|\n",
            "|         US|   28282645|R3MBE6UCH3435E|B00TE8XKIS|      35563334|Polaroid ZIP Mobi...|          Camera|          3|            8|          8|   N|                N|Fun toy for makin...|The printer came ...| 2015-08-31|\n",
            "|         US|     502818|R2E7A4FF0PVY5Q|B00ZKDUFBQ|     555190742|GeekPro 2.0-Inch ...|          Camera|          5|            0|          1|   N|                Y|          Five Stars|Great camera for ...| 2015-08-31|\n",
            "|         US|    1481233| R3R8JDQ2BF4NM|B010BZ7S2Q|     129544315|Sony HDR-AZ1VR Ac...|          Camera|          5|            0|          2|   N|                Y|          Five Stars|Product is very g...| 2015-08-31|\n",
            "|         US|   27885926|R1YND4BS823GN5|B00HRXSSRA|     708418657|ChiliPower DMW-BL...|          Camera|          1|            0|          0|   N|                Y|              Sucky.|Lasted a few hour...| 2015-08-31|\n",
            "|         US|    3183883|R2TZNSA18V7YF6|B005C95NM4|     246957815|Zeikos Deluxe Fla...|          Camera|          4|            1|          1|   N|                Y|Hand Hold Bracket...|I needed the flas...| 2015-08-31|\n",
            "|         US|   23208852|R22ZVRDPPXIDNL|B00LBIBYBE|     746593019|  GoPro Hero Filters|          Camera|          5|            0|          0|   N|                Y|          Five Stars|Use these all the...| 2015-08-31|\n",
            "|         US|   11438825|R1F4O6WOO2W461|B00X3HIM2U|     444991975|Neewer Meike MK-X...|          Camera|          3|            3|          3|   N|                Y|Can't grip the ba...|Same issue as oth...| 2015-08-31|\n",
            "|         US|   50399582| RT1KLS3QSJNUT|B00KDVQF8W|     304104050|LB Photography Ba...|          Camera|          5|            4|          4|   N|                Y|Super pleased wit...|Super pleased wit...| 2015-08-31|\n",
            "|         US|   36700181|R222VYJL5K5IRS|B00GUZEZL4|     472875794|Waterproof Camera...|          Camera|          5|            0|          0|   N|                Y|    Excellent value!|These float wrist...| 2015-08-31|\n",
            "|         US|   47818374|R31LUR7M4PQOLU|B00FB1TBKS|     710827451|Ecolink Z-Wave PI...|          Camera|          5|            0|          0|   N|                Y|       great product|very good on batt...| 2015-08-31|\n",
            "|         US|   35272750|R1OD3T3Q042LUQ|B00GVMLPT6|     269896170|FotoTech Male to ...|          Camera|          2|            0|          0|   N|                Y|           Two Stars|im not happy, the...| 2015-08-31|\n",
            "|         US|   11736306|R2QT68OZTT2YKE|B00L8827BI|     145946775|Nikon D3200 Ultim...|          Camera|          5|            0|          0|   N|                Y|          Five Stars|It is a very good...| 2015-08-31|\n",
            "|         US|   52377008| RMFQF59FG3TD1|B00SIM78R0|     972011051|D-Link Wireless D...|          Camera|          4|            0|          0|   N|                Y|Nice camera, not ...|Nice camera for t...| 2015-08-31|\n",
            "|         US|    6465510|R1QNYFW6G31R5T|B00EDCZKJ2|     258297575|ZINK Phone Photo ...|          Camera|          1|            1|          3|   N|                N|        Never Agian.|If I could leave ...| 2015-08-31|\n",
            "+-----------+-----------+--------------+----------+--------------+--------------------+----------------+-----------+-------------+-----------+----+-----------------+--------------------+--------------------+-----------+\n",
            "only showing top 20 rows\n",
            "\n"
          ]
        },
        {
          "output_type": "execute_result",
          "data": {
            "text/plain": [
              "1801974"
            ]
          },
          "metadata": {},
          "execution_count": 18
        }
      ]
    },
    {
      "cell_type": "code",
      "source": [
        "# checking and removing null values and load in col dependencies\n",
        "\n",
        "from pyspark.sql.functions import col,isnan, when, count, desc\n",
        "camera_reviews.select([count(when(isnan(c) | col(c).isNull(), c)).alias(c) for c in camera_reviews.columns]\n",
        "   ).show()"
      ],
      "metadata": {
        "colab": {
          "base_uri": "https://localhost:8080/"
        },
        "id": "U9IKo5T4WapS",
        "outputId": "bbd61598-cab4-4a16-a4e2-f8b358958439"
      },
      "execution_count": 24,
      "outputs": [
        {
          "output_type": "stream",
          "name": "stdout",
          "text": [
            "+-----------+-----------+---------+----------+--------------+-------------+----------------+-----------+-------------+-----------+----+-----------------+---------------+-----------+-----------+\n",
            "|marketplace|customer_id|review_id|product_id|product_parent|product_title|product_category|star_rating|helpful_votes|total_votes|vine|verified_purchase|review_headline|review_body|review_date|\n",
            "+-----------+-----------+---------+----------+--------------+-------------+----------------+-----------+-------------+-----------+----+-----------------+---------------+-----------+-----------+\n",
            "|          0|          0|        0|         0|             0|            0|               2|          2|            2|          2|   2|                2|              3|        124|         58|\n",
            "+-----------+-----------+---------+----------+--------------+-------------+----------------+-----------+-------------+-----------+----+-----------------+---------------+-----------+-----------+\n",
            "\n"
          ]
        }
      ]
    },
    {
      "cell_type": "code",
      "source": [
        "# check dataset size\n",
        "\n",
        "drp_camera_rev = camera_reviews.dropna()\n",
        "print((drp_camera_rev.count(), len(drp_camera_rev.columns)))"
      ],
      "metadata": {
        "colab": {
          "base_uri": "https://localhost:8080/"
        },
        "id": "cNaACaFzWeIM",
        "outputId": "d04a0343-e787-4871-a0bc-d32e24683a00"
      },
      "execution_count": 25,
      "outputs": [
        {
          "output_type": "stream",
          "name": "stdout",
          "text": [
            "(1801849, 15)\n"
          ]
        }
      ]
    },
    {
      "cell_type": "code",
      "source": [
        "# match and clean dataframe to schema\n",
        "\n",
        "drp_camera_rev.printSchema()"
      ],
      "metadata": {
        "colab": {
          "base_uri": "https://localhost:8080/"
        },
        "id": "rt3g25gZWfEm",
        "outputId": "e647ce8f-29f3-4548-ff32-3fc801e4e6b8"
      },
      "execution_count": 26,
      "outputs": [
        {
          "output_type": "stream",
          "name": "stdout",
          "text": [
            "root\n",
            " |-- marketplace: string (nullable = true)\n",
            " |-- customer_id: integer (nullable = true)\n",
            " |-- review_id: string (nullable = true)\n",
            " |-- product_id: string (nullable = true)\n",
            " |-- product_parent: integer (nullable = true)\n",
            " |-- product_title: string (nullable = true)\n",
            " |-- product_category: string (nullable = true)\n",
            " |-- star_rating: integer (nullable = true)\n",
            " |-- helpful_votes: integer (nullable = true)\n",
            " |-- total_votes: integer (nullable = true)\n",
            " |-- vine: string (nullable = true)\n",
            " |-- verified_purchase: string (nullable = true)\n",
            " |-- review_headline: string (nullable = true)\n",
            " |-- review_body: string (nullable = true)\n",
            " |-- review_date: string (nullable = true)\n",
            "\n"
          ]
        }
      ]
    },
    {
      "cell_type": "code",
      "source": [
        "# review table\n",
        "\n",
        "review_id_table = drp_camera_rev.select([\"review_id\", \"star_rating\", \"helpful_votes\", \"total_votes\", \"vine\"])\n",
        "review_id_table.orderBy(desc(\"total_votes\")).show()"
      ],
      "metadata": {
        "colab": {
          "base_uri": "https://localhost:8080/"
        },
        "id": "8BTfvUyhWipp",
        "outputId": "72eb3a6a-d3ca-460a-b45e-60941ed967bd"
      },
      "execution_count": 27,
      "outputs": [
        {
          "output_type": "stream",
          "name": "stdout",
          "text": [
            "+--------------+-----------+-------------+-----------+----+\n",
            "|     review_id|star_rating|helpful_votes|total_votes|vine|\n",
            "+--------------+-----------+-------------+-----------+----+\n",
            "|R3CSHZYGZT7JS6|          5|         5132|       5287|   N|\n",
            "|R3SLJAG34OOCG5|          5|         5109|       5181|   N|\n",
            "|R1Y0PA7SS1UX4N|          5|         4965|       5010|   N|\n",
            "| R5O3RQJXIOBDC|          5|         4675|       4756|   N|\n",
            "|R1KCF39XVQCDBJ|          5|         4491|       4553|   N|\n",
            "|R25AGEGV14RLYG|          5|         3582|       3615|   N|\n",
            "|R2L4Q5OURK8L7S|          5|         2878|       2923|   N|\n",
            "| R4EOUJ5QS2EJP|          5|         2680|       2798|   N|\n",
            "|R33LNUMEWSVG00|          5|         2607|       2673|   N|\n",
            "|R1V23D8ZZWZCTH|          5|         2580|       2611|   N|\n",
            "|R16KPMS065H1TF|          5|         2565|       2609|   N|\n",
            "|R1C7IFG69T6MVK|          5|         2535|       2589|   N|\n",
            "|R3AMTDCW73QB03|          5|         2529|       2588|   N|\n",
            "|R36NNUXNMQ8EKZ|          1|         2463|       2575|   N|\n",
            "|R182ZQ9TU1FOCN|          5|         2403|       2562|   N|\n",
            "|R1SV9JQVB3WUZG|          1|         2375|       2514|   N|\n",
            "| RK1QX7TJ0499O|          5|         2448|       2505|   N|\n",
            "|R17V047TFUC1YE|          5|         2369|       2411|   N|\n",
            "| RUHDJ0ZTSDGVB|          5|         2380|       2406|   N|\n",
            "|R1J6PTA3I8D17N|          5|         2330|       2381|   N|\n",
            "+--------------+-----------+-------------+-----------+----+\n",
            "only showing top 20 rows\n",
            "\n"
          ]
        }
      ]
    },
    {
      "cell_type": "code",
      "source": [
        "# reduce size of dataframe for analysis by removing votes with < 100 votes\n",
        "\n",
        "total_votes_rev = review_id_table.filter(review_id_table['total_votes'] < 100)\n",
        "total_votes_rev.count()"
      ],
      "metadata": {
        "colab": {
          "base_uri": "https://localhost:8080/"
        },
        "id": "yfJroFbywz0R",
        "outputId": "15e9f36c-93f7-4a12-d735-f72f2a630007"
      },
      "execution_count": 28,
      "outputs": [
        {
          "output_type": "execute_result",
          "data": {
            "text/plain": [
              "1794644"
            ]
          },
          "metadata": {},
          "execution_count": 28
        }
      ]
    },
    {
      "cell_type": "code",
      "source": [
        "# further reduce dataframe by filtering helpful votes with a score of 60%\n",
        "helpful_votes_rev = total_votes_rev.filter(total_votes_rev['helpful_votes'] > 0.6)\n",
        "helpful_votes_rev.count()"
      ],
      "metadata": {
        "colab": {
          "base_uri": "https://localhost:8080/"
        },
        "id": "e78F921XxjTv",
        "outputId": "b0564bbd-aa78-4316-d4cc-8d8993fc8ca9"
      },
      "execution_count": 29,
      "outputs": [
        {
          "output_type": "execute_result",
          "data": {
            "text/plain": [
              "700577"
            ]
          },
          "metadata": {},
          "execution_count": 29
        }
      ]
    },
    {
      "cell_type": "markdown",
      "source": [
        "**With reduced dataframe prepare for analysis**"
      ],
      "metadata": {
        "id": "ZTgQAOwvypV-"
      }
    },
    {
      "cell_type": "code",
      "source": [
        "helpful_votes_rev.printSchema()"
      ],
      "metadata": {
        "colab": {
          "base_uri": "https://localhost:8080/"
        },
        "id": "UxAomHUGywi9",
        "outputId": "44fa81d3-b22a-43c0-894f-97c05b5f47fc"
      },
      "execution_count": 31,
      "outputs": [
        {
          "output_type": "stream",
          "name": "stdout",
          "text": [
            "root\n",
            " |-- review_id: string (nullable = true)\n",
            " |-- star_rating: integer (nullable = true)\n",
            " |-- helpful_votes: integer (nullable = true)\n",
            " |-- total_votes: integer (nullable = true)\n",
            " |-- vine: string (nullable = true)\n",
            "\n"
          ]
        }
      ]
    },
    {
      "cell_type": "code",
      "source": [
        "# sperate reviews as non-vine member and as a vine member\n",
        "member_rev = helpful_votes_rev.filter(helpful_votes_rev['vine']== 'Y')\n",
        "member_rev.count()"
      ],
      "metadata": {
        "colab": {
          "base_uri": "https://localhost:8080/"
        },
        "id": "rVacWxoFzEWh",
        "outputId": "2bb49f1f-27d0-482a-dc7f-a1fcf45b6b63"
      },
      "execution_count": 34,
      "outputs": [
        {
          "output_type": "execute_result",
          "data": {
            "text/plain": [
              "5153"
            ]
          },
          "metadata": {},
          "execution_count": 34
        }
      ]
    },
    {
      "cell_type": "code",
      "source": [
        "non_member_rev = helpful_votes_rev.filter(helpful_votes_rev['vine']== 'N')\n",
        "non_member_rev.count()"
      ],
      "metadata": {
        "colab": {
          "base_uri": "https://localhost:8080/"
        },
        "id": "Y0cproHBzz54",
        "outputId": "63f28a00-0ee2-4782-f3f5-2f5229a5c4eb"
      },
      "execution_count": 35,
      "outputs": [
        {
          "output_type": "execute_result",
          "data": {
            "text/plain": [
              "695424"
            ]
          },
          "metadata": {},
          "execution_count": 35
        }
      ]
    },
    {
      "cell_type": "code",
      "source": [
        "# base analysis on 5 star reviews \n",
        "\n",
        "member_star_rev = member_rev[member_rev['star_rating']== 5].count()\n",
        "member_num = member_rev.count()\n",
        "percent_star_rev = float(member_star_rev) / float(member_num)\n",
        "\n",
        "print(f'Number of member reviews {member_num}')\n",
        "print(f'Number of member reviews with 5 stars {member_star_rev}')\n",
        "print(f'Percentage of member reviews that are five stars {percent_star_rev * 100}%')"
      ],
      "metadata": {
        "colab": {
          "base_uri": "https://localhost:8080/"
        },
        "id": "qvexV2cp0nUR",
        "outputId": "b6caa5d8-b482-4ba9-f275-be9eb4699cd1"
      },
      "execution_count": 36,
      "outputs": [
        {
          "output_type": "stream",
          "name": "stdout",
          "text": [
            "Number of member reviews 5153\n",
            "Number of member reviews with 5 stars 2161\n",
            "Percentage of member reviews that are five stars 41.93673588201048%\n"
          ]
        }
      ]
    },
    {
      "cell_type": "code",
      "source": [
        "non_member_star_rev = non_member_rev[non_member_rev['star_rating']== 5].count()\n",
        "non_member_num = non_member_rev.count()\n",
        "non_percent_star_rev = float(non_member_star_rev) / float(non_member_num)\n",
        "\n",
        "print(f'Number of member reviews {non_member_num}')\n",
        "print(f'Number of member reviews with 5 stars {non_member_star_rev}')\n",
        "print(f'Percentage of member reviews that are five stars {non_percent_star_rev * 100}%')"
      ],
      "metadata": {
        "colab": {
          "base_uri": "https://localhost:8080/"
        },
        "id": "EEZfgoEw2Slc",
        "outputId": "efd19dbf-e40d-4f2c-d63b-1712bd9d23a9"
      },
      "execution_count": 37,
      "outputs": [
        {
          "output_type": "stream",
          "name": "stdout",
          "text": [
            "Number of member reviews 695424\n",
            "Number of member reviews with 5 stars 364754\n",
            "Percentage of member reviews that are five stars 52.45059129394441%\n"
          ]
        }
      ]
    },
    {
      "cell_type": "markdown",
      "source": [
        "**Analysis and Summary of Finding**\n",
        "\n",
        "Based on the analysis on a smaller set of data, there is a 10% diffrence of member and non-member 5 star reviews.\n",
        "\n",
        "To me a 10% difference on authenticity is still quite high. Based purely on non solicited vs solicited reviews.\n",
        "\n",
        "The determination of factors on diffrence is difficult to tell, as there are emotional and logical factors to consider which is not present in the dataset."
      ],
      "metadata": {
        "id": "5L0KqN-X2wt3"
      }
    }
  ]
}